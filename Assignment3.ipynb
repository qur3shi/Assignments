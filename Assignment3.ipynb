{
 "cells": [
  {
   "cell_type": "code",
   "execution_count": 4,
   "metadata": {},
   "outputs": [
    {
     "name": "stdout",
     "output_type": "stream",
     "text": [
      "enter first value 65\n",
      "enter Second value 24\n",
      "Enter Operator+\n",
      "89 answer\n"
     ]
    }
   ],
   "source": [
    "#code 1\n",
    "val1 = input('enter first value ')\n",
    "val2 = input('enter Second value ')\n",
    "operator = input('Enter Operator')\n",
    "val1=int(val1)\n",
    "val2=int(val2)\n",
    "\n",
    "if operator == '+':\n",
    "    val = val1 + val2\n",
    "    print(val, 'answer')\n",
    "elif operator == '-':\n",
    "    val = val1 - val2\n",
    "    print(val, 'answer')\n",
    "elif operator == '*':\n",
    "    val = val1 * val2\n",
    "    print(val, 'answer')\n",
    "elif operator == '/':\n",
    "    val = val1 / val2\n",
    "    print(val, 'answer')\n",
    "elif operator == '**':\n",
    "    val = val1 ** val2\n",
    "    print(val, 'answer')\n",
    "    \n",
    "else:\n",
    "    print('Enter Correct Operation')"
   ]
  },
  {
   "cell_type": "code",
   "execution_count": 12,
   "metadata": {},
   "outputs": [
    {
     "name": "stdout",
     "output_type": "stream",
     "text": [
      "[7, 9]\n"
     ]
    }
   ],
   "source": [
    "a = [\"Ali\", \"Amir\", \"Rabia\", 7, 9, \"Amber\"];\n",
    "newList = [];\n",
    "for ite in a:\n",
    "    if str(ite).isnumeric():\n",
    "        newList.append(ite);\n",
    "print(newList);"
   ]
  },
  {
   "cell_type": "code",
   "execution_count": 13,
   "metadata": {},
   "outputs": [
    {
     "name": "stdout",
     "output_type": "stream",
     "text": [
      "{1: 9, 2: 22, 3: 33, 4: 44}\n"
     ]
    }
   ],
   "source": [
    "dict = {1: 9, 2: 22, 3: 33};\n",
    "dict[4] = 44;\n",
    "print(dict);"
   ]
  },
  {
   "cell_type": "code",
   "execution_count": 17,
   "metadata": {},
   "outputs": [
    {
     "name": "stdout",
     "output_type": "stream",
     "text": [
      "255\n"
     ]
    }
   ],
   "source": [
    "ict = {\"Maths\" : 90, \"Chemistry\" : 70, \"Physics\" : 88};\n",
    "addItem = 0;\n",
    "for ite in dict:\n",
    "    if str(dict[ite]).isnumeric():\n",
    "      \n",
    "        addItem = addItem + dict[ite];\n",
    "print(addItem);"
   ]
  },
  {
   "cell_type": "code",
   "execution_count": 19,
   "metadata": {},
   "outputs": [
    {
     "name": "stdout",
     "output_type": "stream",
     "text": [
      "[11, 39, 36, -54]\n"
     ]
    }
   ],
   "source": [
    "def Repeat(x): \n",
    "    _list = len(x) \n",
    "    repeated = [] \n",
    "    for i in range(_list): \n",
    "        k = i + 1\n",
    "        for j in range(k, _list): \n",
    "            if x[i] == x[j] and x[i] not in repeated: \n",
    "                repeated.append(x[i]) \n",
    "    return repeated \n",
    "  \n",
    "list1 = [11, 243, 11, 39, 36, 240, 24, 36, 40,  \n",
    "         50, -54, 39, 65, -54, -20] \n",
    "print (Repeat(list1))"
   ]
  },
  {
   "cell_type": "code",
   "execution_count": 26,
   "metadata": {},
   "outputs": [
    {
     "name": "stdout",
     "output_type": "stream",
     "text": [
      "Value is not present\n",
      "Value is Present,  value = 10\n"
     ]
    }
   ],
   "source": [
    "def checkKey(dict, key): \n",
    "      \n",
    "    if key in dict.keys(): \n",
    "        print(\"Value is Present, \", end =\" \") \n",
    "        print(\"value =\", dict[key]) \n",
    "    else: \n",
    "        print(\"Value is not present\") \n",
    "   \n",
    "dict = {'a': 10, 'b':20, 'c':30} \n",
    "  \n",
    "key = 'f'\n",
    "checkKey(dict, key) \n",
    "  \n",
    "key = 'a'\n",
    "checkKey(dict, key)"
   ]
  },
  {
   "cell_type": "code",
   "execution_count": null,
   "metadata": {},
   "outputs": [],
   "source": []
  }
 ],
 "metadata": {
  "kernelspec": {
   "display_name": "Python 3",
   "language": "python",
   "name": "python3"
  },
  "language_info": {
   "codemirror_mode": {
    "name": "ipython",
    "version": 3
   },
   "file_extension": ".py",
   "mimetype": "text/x-python",
   "name": "python",
   "nbconvert_exporter": "python",
   "pygments_lexer": "ipython3",
   "version": "3.7.4"
  }
 },
 "nbformat": 4,
 "nbformat_minor": 2
}
