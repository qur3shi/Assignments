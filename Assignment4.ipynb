{
 "cells": [
  {
   "cell_type": "code",
   "execution_count": 1,
   "metadata": {},
   "outputs": [
    {
     "name": "stdout",
     "output_type": "stream",
     "text": [
      "first_name : Arsalan\n",
      "last_name : Azhar\n",
      "age : 31\n",
      "city : Multan\n",
      "\n",
      " add qualification \n",
      "\n",
      "first_name : Arsalan\n",
      "last_name : Azhar\n",
      "age : 31\n",
      "city : Multan\n",
      "qualification : intermediate\n",
      "\n",
      " update qualification \n",
      "\n",
      "first_name : Arsalan\n",
      "last_name : Azhar\n",
      "age : 31\n",
      "city : Multan\n",
      "qualification : high academic\n"
     ]
    }
   ],
   "source": [
    "person_dict={\"first_name\":\"Arsalan\",\"last_name\":\"Azhar\",\"age\":\"31\",\"city\":\"Multan\"}\n",
    "for key, value in person_dict.items():\n",
    "    print(key+\" : \"+value)\n",
    "print(\"\\n add qualification \\n\")\n",
    "person_dict[\"qualification\"]=\"intermediate\"\n",
    "for key, value in person_dict.items():\n",
    "    print(key+\" : \"+value)\n",
    "print(\"\\n update qualification \\n\")\n",
    "person_dict[\"qualification\"]=\"high academic\"\n",
    "for key, value in person_dict.items():\n",
    "    print(key+\" : \"+value)"
   ]
  },
  {
   "cell_type": "code",
   "execution_count": 2,
   "metadata": {},
   "outputs": [
    {
     "name": "stdout",
     "output_type": "stream",
     "text": [
      "\n",
      "lahore\n",
      "\n",
      "country : pakistan\n",
      "population : 13249000\n",
      "fact : Lahore is the capital city of the Pakistani province of Punjab. It is the second largest and most populous city in Pakistan\n",
      "\n",
      "karachi\n",
      "\n",
      "country : pakistan\n",
      "population : 16358000\n",
      "fact : Karachi is vital to Pakistan's economy, contributing 42 per cent of GDP , 70 per cent of income tax revenue and 62 per cent of sales tax revenue\n",
      "\n",
      "islamabad\n",
      "\n",
      "country : pakistan\n",
      "population : 1059000\n",
      "fact : \n"
     ]
    }
   ],
   "source": [
    "cities={\n",
    "    \"lahore\":{\n",
    "        \"country\":\"pakistan\",\n",
    "        \"population\":13249000,\n",
    "        \"fact\":\"Lahore is the capital city of the Pakistani province of Punjab. It is the second largest and most populous city in Pakistan\"\n",
    "    },\n",
    "    \"karachi\":{\n",
    "        \"country\":\"pakistan\",\n",
    "        \"population\":16358000,\n",
    "        \"fact\":\"Karachi is vital to Pakistan's economy, contributing 42 per cent of GDP , 70 per cent of income tax revenue and 62 per cent of sales tax revenue\"\n",
    "    },\n",
    "    \"islamabad\":{\n",
    "        \"country\":\"pakistan\",\n",
    "        \"population\":1059000,\n",
    "        \"fact\":\"\"\n",
    "    }\n",
    "}\n",
    "for citykey,cityinfo in cities.items():\n",
    "    print(\"\\n\"+citykey+\"\\n\")\n",
    "    for city in cityinfo:\n",
    "        print(city+\" : \"+str(cityinfo[city]))"
   ]
  },
  {
   "cell_type": "code",
   "execution_count": 3,
   "metadata": {},
   "outputs": [
    {
     "name": "stdout",
     "output_type": "stream",
     "text": [
      "Enter age : 25\n",
      "Ticket is 20$\n",
      "Are you want to take ticket y/n: y\n",
      "Enter age : 10\n",
      "Ticket is 12$\n",
      "Are you want to take ticket y/n: y\n",
      "Enter age : 2\n",
      "Ticket is free\n",
      "Are you want to take ticket y/n: n\n"
     ]
    }
   ],
   "source": [
    "flag='y'\n",
    "while flag!='n':\n",
    "    age=int(input(\"Enter age : \"))\n",
    "    if age>12:\n",
    "        print(\"Ticket is 20$\")\n",
    "    elif age>=3:\n",
    "        print(\"Ticket is 12$\")\n",
    "    else:\n",
    "        print(\"Ticket is free\")\n",
    "    flag=input(\"Are you want to take ticket y/n: \")"
   ]
  },
  {
   "cell_type": "code",
   "execution_count": 4,
   "metadata": {},
   "outputs": [
    {
     "name": "stdout",
     "output_type": "stream",
     "text": [
      "One of my favorite books is 7 Habit.\n"
     ]
    }
   ],
   "source": [
    "def favorite_book(title):\n",
    "    print(title)\n",
    "book_title=\"One of my favorite books is 7 Habit.\"\n",
    "if(len(book_title)!=0):\n",
    "    favorite_book(book_title)\n",
    "else:\n",
    "    print(\"Please populate the book title\")"
   ]
  },
  {
   "cell_type": "code",
   "execution_count": 5,
   "metadata": {},
   "outputs": [
    {
     "name": "stdout",
     "output_type": "stream",
     "text": [
      "Enter number between 1 and 30: 25\n",
      "Hidden number is Smaller\n",
      "\n",
      "Enter number between 1 and 30: 10\n",
      "Hidden number is greater\n",
      "\n",
      "Enter number between 1 and 30: 3\n",
      "Hidden number is greater\n",
      "\n"
     ]
    }
   ],
   "source": [
    "import random\n",
    "c=0\n",
    "rNumber=0\n",
    "while c<3:\n",
    "    rNumber=int(random.randrange(1,30))\n",
    "    userNumber=int(input(\"Enter number between 1 and 30: \"))\n",
    "    c=c+1\n",
    "    if rNumber>userNumber:\n",
    "        print(\"Hidden number is greater\\n\")\n",
    "    elif rNumber<userNumber:\n",
    "        print(\"Hidden number is Smaller\\n\")\n",
    "    else:\n",
    "        print(\"Hidden number is equal\\n\")"
   ]
  },
  {
   "cell_type": "code",
   "execution_count": null,
   "metadata": {},
   "outputs": [],
   "source": []
  }
 ],
 "metadata": {
  "kernelspec": {
   "display_name": "Python 3",
   "language": "python",
   "name": "python3"
  },
  "language_info": {
   "codemirror_mode": {
    "name": "ipython",
    "version": 3
   },
   "file_extension": ".py",
   "mimetype": "text/x-python",
   "name": "python",
   "nbconvert_exporter": "python",
   "pygments_lexer": "ipython3",
   "version": "3.7.4"
  }
 },
 "nbformat": 4,
 "nbformat_minor": 2
}
