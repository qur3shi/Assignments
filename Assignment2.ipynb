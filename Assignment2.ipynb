{
 "cells": [
  {
   "cell_type": "code",
   "execution_count": 3,
   "metadata": {},
   "outputs": [
    {
     "name": "stdout",
     "output_type": "stream",
     "text": [
      "Enter marks obtained in 5 subjects: \n",
      "80\n",
      "70\n",
      "75\n",
      "92\n",
      "65\n",
      "Your Grade is B+\n"
     ]
    }
   ],
   "source": [
    "print(\"Enter marks obtained in 5 subjects: \");\n",
    "mark1 = input();\n",
    "if mark1 == 'x':\n",
    "    exit();\n",
    "else:\n",
    "    mark1 = int(mark1);\n",
    "    mark2 = int(input());\n",
    "    mark3 = int(input());\n",
    "    mark4 = int(input());\n",
    "    mark5 = int(input());\n",
    "    sum = mark1 + mark2 + mark3 + mark4 + mark5;\n",
    "    average = sum/5;\n",
    "    if(average>=91 and average<=100):\n",
    "        print(\"Your Grade is A+\");\n",
    "    elif(average>=81 and average<=90):\n",
    "        print(\"Your Grade is A\");\n",
    "    elif(average>=71 and average<=80):\n",
    "        print(\"Your Grade is B+\");\n",
    "    elif(average>=61 and average<=70):\n",
    "        print(\"Your Grade is B\");\n",
    "    elif(average>=51 and average<=60):\n",
    "        print(\"Your Grade is C+\");\n",
    "    elif(average>=41 and average<=50):\n",
    "        print(\"Your Grade is C\");\n",
    "    elif(average>=0 and average<=40):\n",
    "        print(\"Your Grade is F\");\n",
    "    else:\n",
    "        print(\"Strange Grade..!!\");"
   ]
  },
  {
   "cell_type": "code",
   "execution_count": 5,
   "metadata": {},
   "outputs": [
    {
     "name": "stdout",
     "output_type": "stream",
     "text": [
      "Enter a number: 6\n",
      "6 is Even\n"
     ]
    }
   ],
   "source": [
    "num = int(input(\"Enter a number: \"))\n",
    "if (num % 2) == 0:\n",
    "    print(\"{0} is Even\".format(num))\n",
    "else:\n",
    "    print(\"{0} is Odd\".format(num))"
   ]
  },
  {
   "cell_type": "code",
   "execution_count": 8,
   "metadata": {},
   "outputs": [
    {
     "name": "stdout",
     "output_type": "stream",
     "text": [
      "The length of list is:  5\n"
     ]
    }
   ],
   "source": [
    "a = [] \n",
    "a.append(\"Faizan\") \n",
    "a.append(\"Shaheen\") \n",
    "a.append(\"Faisal\") \n",
    "a.append(\"Mark\") \n",
    "a.append(\"Wprld\")\n",
    "print(\"The length of list is: \", len(a))"
   ]
  },
  {
   "cell_type": "code",
   "execution_count": 9,
   "metadata": {},
   "outputs": [
    {
     "name": "stdout",
     "output_type": "stream",
     "text": [
      "Sum of all elements in given list:  190\n"
     ]
    }
   ],
   "source": [
    "# Python program to find sum of elements in list \n",
    "total = 0\n",
    "  \n",
    "# creating a list \n",
    "list1 = [15, 2, 11, 85, 77]  \n",
    "  \n",
    "# Iterate each element in list \n",
    "# and add them in variale total \n",
    "for ele in range(0, len(list1)): \n",
    "    total = total + list1[ele] \n",
    "  \n",
    "# printing total value \n",
    "print(\"Sum of all elements in given list: \", total)"
   ]
  },
  {
   "cell_type": "code",
   "execution_count": 11,
   "metadata": {},
   "outputs": [
    {
     "name": "stdout",
     "output_type": "stream",
     "text": [
      "Largest element is: 98\n"
     ]
    }
   ],
   "source": [
    "# Python program to find largest \n",
    "# number in a list \n",
    "  \n",
    "# list of numbers \n",
    "list1 = [25, 11, 98, 85, 90] \n",
    "  \n",
    "# sorting the list \n",
    "list1.sort() \n",
    "  \n",
    "# printing the last element \n",
    "print(\"Largest element is:\", list1[-1])\n"
   ]
  },
  {
   "cell_type": "code",
   "execution_count": 12,
   "metadata": {},
   "outputs": [
    {
     "name": "stdout",
     "output_type": "stream",
     "text": [
      "[1, 2, 3, 3, 4]\n"
     ]
    }
   ],
   "source": [
    "a = [1, 2, 3, 3,4, 5, 8, 13, 21, 34, 55, 89]\n",
    "\n",
    "new_list = []\n",
    "\n",
    "for item in a:\n",
    "  \n",
    "    if item < 5:\n",
    "    \n",
    "        new_list.append(item)\n",
    "print(new_list)"
   ]
  },
  {
   "cell_type": "code",
   "execution_count": null,
   "metadata": {},
   "outputs": [],
   "source": []
  }
 ],
 "metadata": {
  "kernelspec": {
   "display_name": "Python 3",
   "language": "python",
   "name": "python3"
  },
  "language_info": {
   "codemirror_mode": {
    "name": "ipython",
    "version": 3
   },
   "file_extension": ".py",
   "mimetype": "text/x-python",
   "name": "python",
   "nbconvert_exporter": "python",
   "pygments_lexer": "ipython3",
   "version": "3.7.4"
  }
 },
 "nbformat": 4,
 "nbformat_minor": 2
}
